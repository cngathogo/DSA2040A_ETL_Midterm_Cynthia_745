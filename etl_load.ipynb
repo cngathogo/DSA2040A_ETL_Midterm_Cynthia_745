{
 "cells": [
  {
   "cell_type": "code",
   "execution_count": 3,
   "id": "f968ab4c",
   "metadata": {},
   "outputs": [
    {
     "name": "stdout",
     "output_type": "stream",
     "text": [
      "   order_id customer_name product  quantity  unit_price  order_date region  \\\n",
      "0         1         Diana  Tablet       NaN       500.0  2024-01-20  South   \n",
      "1         2           Eve  Laptop       NaN       500.0  2024-04-29  North   \n",
      "2         3       Charlie  Laptop       2.0       250.0  2024-01-08   None   \n",
      "3         4           Eve  Laptop       2.0       750.0  2024-01-07   West   \n",
      "4         5           Eve  Tablet       3.0       500.0  2024-03-07  South   \n",
      "\n",
      "   total_price customer_tier  \n",
      "0          NaN          None  \n",
      "1          NaN          None  \n",
      "2        500.0        Medium  \n",
      "3       1500.0           VIP  \n",
      "4       1500.0           VIP  \n"
     ]
    }
   ],
   "source": [
    "#LOADING THE TRANSFORMED DATASETS USING PARQUETS\n",
    "import sqlite3\n",
    "import pandas as pd\n",
    "import os\n",
    "\n",
    "# Load transformed files\n",
    "full_df = pd.read_csv('transformed/transformed_full.csv')\n",
    "incremental_df = pd.read_csv('transformed/transformed_incremental.csv')\n",
    "\n",
    "# Create folder\n",
    "os.makedirs('loaded', exist_ok=True)\n",
    "\n",
    "# Connect to SQLite and load data\n",
    "conn = sqlite3.connect('loaded/transformed_data.db')\n",
    "full_df.to_sql('full_data', conn, if_exists='replace', index=False)\n",
    "incremental_df.to_sql('incremental_data', conn, if_exists='replace', index=False)\n",
    "\n",
    "# Preview with SQL\n",
    "query = \"SELECT * FROM full_data LIMIT 5\"\n",
    "preview = pd.read_sql_query(query, conn)\n",
    "print(preview)\n",
    "\n",
    "conn.close()\n"
   ]
  }
 ],
 "metadata": {
  "kernelspec": {
   "display_name": "Python 3",
   "language": "python",
   "name": "python3"
  },
  "language_info": {
   "codemirror_mode": {
    "name": "ipython",
    "version": 3
   },
   "file_extension": ".py",
   "mimetype": "text/x-python",
   "name": "python",
   "nbconvert_exporter": "python",
   "pygments_lexer": "ipython3",
   "version": "3.12.4"
  }
 },
 "nbformat": 4,
 "nbformat_minor": 5
}
